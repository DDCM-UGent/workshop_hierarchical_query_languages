{
 "cells": [
  {
   "cell_type": "markdown",
   "id": "7f7d98c3-f8c2-4823-a7d3-0202a0fde4ff",
   "metadata": {},
   "source": [
    "# NoSQL: Hierarchical Querying Workshop - JSONPath"
   ]
  },
  {
   "cell_type": "markdown",
   "id": "34a89cbf-9dc7-4396-80e8-657f37e0c6c9",
   "metadata": {},
   "source": [
    "## System Requirements"
   ]
  },
  {
   "cell_type": "code",
   "execution_count": null,
   "id": "8761b55d-adb5-43d6-98e1-0d19f5f3018e",
   "metadata": {
    "scrolled": true
   },
   "outputs": [],
   "source": [
    "!pip install psycopg2-binary"
   ]
  },
  {
   "cell_type": "markdown",
   "id": "a4fa84e4-13f9-43b8-a7ac-82a5da7e21a0",
   "metadata": {},
   "source": [
    "## Imports"
   ]
  },
  {
   "cell_type": "code",
   "execution_count": null,
   "id": "f86a71b2-d486-404e-adb2-092b58d9e6c3",
   "metadata": {
    "scrolled": true
   },
   "outputs": [],
   "source": [
    "from internal.json import JSONDocument, pprint"
   ]
  },
  {
   "cell_type": "markdown",
   "id": "a424a78e-7091-4322-b25a-0d56ea0e09f6",
   "metadata": {},
   "source": [
    "## Setup"
   ]
  },
  {
   "cell_type": "code",
   "execution_count": null,
   "id": "9b5acb1a-6120-4c72-a375-b81e492a286a",
   "metadata": {
    "scrolled": true
   },
   "outputs": [],
   "source": [
    "doc = JSONDocument('connection.properties')"
   ]
  },
  {
   "cell_type": "markdown",
   "id": "59d6fa31-f99d-49a6-b720-71dd35b57dc0",
   "metadata": {},
   "source": [
    "## Example"
   ]
  },
  {
   "cell_type": "code",
   "execution_count": null,
   "id": "7eb79b72-cd14-4355-b259-bb4df4e78611",
   "metadata": {
    "scrolled": true
   },
   "outputs": [],
   "source": [
    "pprint(doc.jsonpath('$[0].tweeted_by'))"
   ]
  },
  {
   "cell_type": "markdown",
   "id": "792ceb81-e39a-4491-bf3a-e275bb504113",
   "metadata": {},
   "source": [
    "## Solutions (start here)"
   ]
  },
  {
   "cell_type": "markdown",
   "id": "463fe070-d737-4f49-97b4-5de0021d5bc5",
   "metadata": {},
   "source": [
    "### Exercise 1"
   ]
  },
  {
   "cell_type": "code",
   "execution_count": null,
   "id": "1c3f01f2-0277-4fe8-9dc1-8039171bf101",
   "metadata": {
    "scrolled": true
   },
   "outputs": [],
   "source": [
    "pprint(doc.jsonpath(''))"
   ]
  },
  {
   "cell_type": "markdown",
   "id": "4e1e41e5-4526-4e4a-b9da-e409017aa59c",
   "metadata": {},
   "source": [
    "### Exercise 2"
   ]
  },
  {
   "cell_type": "code",
   "execution_count": null,
   "id": "05b2ec6e-f22c-4867-82f3-80a49ed848ef",
   "metadata": {
    "scrolled": true
   },
   "outputs": [],
   "source": [
    "pprint(doc.jsonpath(''))"
   ]
  },
  {
   "cell_type": "markdown",
   "id": "401331ca-8e16-40f0-99d7-16f85b553c71",
   "metadata": {},
   "source": [
    "### Exercise 3"
   ]
  },
  {
   "cell_type": "code",
   "execution_count": null,
   "id": "71feb5d7-ffd5-474b-b136-0380b16ddb2d",
   "metadata": {
    "scrolled": true
   },
   "outputs": [],
   "source": [
    "pprint(doc.jsonpath(''))"
   ]
  },
  {
   "cell_type": "markdown",
   "id": "331abb76-aa90-47d8-bee1-ab3ddaa12267",
   "metadata": {},
   "source": [
    "### Exercise 4"
   ]
  },
  {
   "cell_type": "code",
   "execution_count": null,
   "id": "a4366c30-0ba3-4129-91ce-b0dc61b177e1",
   "metadata": {
    "scrolled": true
   },
   "outputs": [],
   "source": [
    "pprint(doc.jsonpath(''))"
   ]
  },
  {
   "cell_type": "markdown",
   "id": "5f2b59ed-44df-48e9-908d-fa2ce86b6781",
   "metadata": {},
   "source": [
    "### Exercise 5"
   ]
  },
  {
   "cell_type": "code",
   "execution_count": null,
   "id": "83aad52b-2a3c-491e-a566-be5c067a1837",
   "metadata": {
    "scrolled": true
   },
   "outputs": [],
   "source": [
    "pprint(doc.jsonpath(''))"
   ]
  },
  {
   "cell_type": "markdown",
   "id": "c0706ab1-3d92-46c9-9a83-04bd43b24df8",
   "metadata": {},
   "source": [
    "### Exercise 6"
   ]
  },
  {
   "cell_type": "code",
   "execution_count": null,
   "id": "cd58778e-83e3-4ae4-b941-640c9e8e868d",
   "metadata": {
    "scrolled": true
   },
   "outputs": [],
   "source": [
    "pprint(doc.jsonpath(''))"
   ]
  },
  {
   "cell_type": "markdown",
   "id": "dc9efc85-8120-43c4-8185-d3d2c34016be",
   "metadata": {},
   "source": [
    "### Exercise 7"
   ]
  },
  {
   "cell_type": "code",
   "execution_count": null,
   "id": "db81204b-615d-4a18-a808-86315ece5069",
   "metadata": {
    "scrolled": true
   },
   "outputs": [],
   "source": [
    "pprint(doc.jsonpath(''))"
   ]
  },
  {
   "cell_type": "markdown",
   "id": "f700a4ae-2866-4f31-bc88-d0fb40e01523",
   "metadata": {},
   "source": [
    "### Exercise 8"
   ]
  },
  {
   "cell_type": "code",
   "execution_count": null,
   "id": "31e50cbb-232f-4972-b5b5-e8a8d3667d16",
   "metadata": {
    "scrolled": true
   },
   "outputs": [],
   "source": [
    "# Not solvable in JSONPath"
   ]
  },
  {
   "cell_type": "markdown",
   "id": "eef2c969-0505-4d48-9c09-5fd5bbca8fcf",
   "metadata": {},
   "source": [
    "### Exercise 9"
   ]
  },
  {
   "cell_type": "code",
   "execution_count": null,
   "id": "eef503a4-17dd-4f18-9304-1bdd5671908d",
   "metadata": {
    "scrolled": true
   },
   "outputs": [],
   "source": [
    "pprint(doc.jsonpath(''))"
   ]
  },
  {
   "cell_type": "markdown",
   "id": "febdf98c-bbeb-4413-a7d5-590a10472867",
   "metadata": {},
   "source": [
    "### Exercise 10"
   ]
  },
  {
   "cell_type": "code",
   "execution_count": null,
   "id": "f17d6f14-b3b7-46e2-9489-1c71ac756981",
   "metadata": {
    "scrolled": true
   },
   "outputs": [],
   "source": [
    "pprint(doc.jsonpath(''))"
   ]
  },
  {
   "cell_type": "markdown",
   "id": "c9c5684b-c214-4fdd-bf38-44c8efd79f8c",
   "metadata": {},
   "source": [
    "### Exercise 11"
   ]
  },
  {
   "cell_type": "code",
   "execution_count": null,
   "id": "c14ee67e-c7ac-428d-9c4e-b8bff5bf11ec",
   "metadata": {
    "scrolled": true
   },
   "outputs": [],
   "source": [
    "pprint(doc.jsonpath(''))"
   ]
  },
  {
   "cell_type": "markdown",
   "id": "ffa0d63f-f7f2-4130-b732-0a713635c188",
   "metadata": {},
   "source": [
    "### Exercise 12"
   ]
  },
  {
   "cell_type": "code",
   "execution_count": null,
   "id": "6925674e-ebca-4264-9443-0dbef9c5d728",
   "metadata": {
    "scrolled": true
   },
   "outputs": [],
   "source": [
    "pprint(doc.jsonpath(''))"
   ]
  },
  {
   "cell_type": "markdown",
   "id": "dd226eee-30fd-415d-aa0c-c078556de35f",
   "metadata": {},
   "source": [
    "### Exercise 13"
   ]
  },
  {
   "cell_type": "code",
   "execution_count": null,
   "id": "444f1fe7-59a8-4244-bf3e-9944e69612f0",
   "metadata": {
    "scrolled": true
   },
   "outputs": [],
   "source": [
    "# Not solvable in JSONPath.\n",
    "# Alternative: Retrieve all usernames that corresponds with a user whose location is unknown.\n",
    "pprint(doc.jsonpath(''))"
   ]
  },
  {
   "cell_type": "markdown",
   "id": "9b1f32d7-1179-4446-8100-9c21b27765ed",
   "metadata": {},
   "source": [
    "### Exercise 14"
   ]
  },
  {
   "cell_type": "code",
   "execution_count": null,
   "id": "aab09416-402c-4fe2-8d8f-39a33237926f",
   "metadata": {
    "scrolled": true
   },
   "outputs": [],
   "source": [
    "pprint(doc.jsonpath(''))"
   ]
  },
  {
   "cell_type": "markdown",
   "id": "2e1000f9-d4ce-4cb5-b58e-45532e51795e",
   "metadata": {},
   "source": [
    "### Exercise 15"
   ]
  },
  {
   "cell_type": "code",
   "execution_count": null,
   "id": "6bcaf3d5-46ac-4c1c-9e81-f732b901b801",
   "metadata": {
    "scrolled": true
   },
   "outputs": [],
   "source": [
    "pprint(doc.jsonpath(''))"
   ]
  },
  {
   "cell_type": "markdown",
   "id": "30395c1d-8e32-4403-9f0b-6399101a6a6c",
   "metadata": {},
   "source": [
    "### Exercise 16"
   ]
  },
  {
   "cell_type": "code",
   "execution_count": null,
   "id": "928f3398-0410-41aa-845a-474a05a2f793",
   "metadata": {
    "scrolled": true
   },
   "outputs": [],
   "source": [
    "pprint(doc.jsonpath(''))"
   ]
  },
  {
   "cell_type": "markdown",
   "id": "5ac433b6-0862-484f-af51-16d5c40d30ab",
   "metadata": {},
   "source": [
    "### Exercise 17"
   ]
  },
  {
   "cell_type": "code",
   "execution_count": null,
   "id": "516795ee-860b-4e7c-95cb-0c151ca7b4b1",
   "metadata": {
    "scrolled": true
   },
   "outputs": [],
   "source": [
    "pprint(doc.jsonpath(''))"
   ]
  },
  {
   "cell_type": "markdown",
   "id": "4254942d-9b53-4224-bd50-af018d641b34",
   "metadata": {},
   "source": [
    "### Exercise 18"
   ]
  },
  {
   "cell_type": "code",
   "execution_count": null,
   "id": "c63c7166-fb7e-4538-bf22-06da4d9c686e",
   "metadata": {
    "scrolled": true
   },
   "outputs": [],
   "source": [
    "# Not solvable in JSONPath\n",
    "# Alternative: Retrieve, for all tweets that are retweeted at least once and that contain at least two mentions, the usernames of the users who are mentioned in this tweet.\n",
    "pprint(doc.jsonpath(''))"
   ]
  },
  {
   "cell_type": "markdown",
   "id": "1482acb6-15a0-4d23-a4e3-706052a4eff1",
   "metadata": {},
   "source": [
    "### Exercise 19"
   ]
  },
  {
   "cell_type": "code",
   "execution_count": null,
   "id": "58c35c15-3efc-4e8a-a7f0-3b66774bacb5",
   "metadata": {
    "scrolled": true
   },
   "outputs": [],
   "source": [
    "pprint(doc.jsonpath(''))"
   ]
  },
  {
   "cell_type": "markdown",
   "id": "febfed29-a286-44af-80c6-2698ac9924c8",
   "metadata": {},
   "source": [
    "### Exercise 20"
   ]
  },
  {
   "cell_type": "code",
   "execution_count": null,
   "id": "5772ec15-c416-4ce0-bbec-94beff39674a",
   "metadata": {
    "scrolled": true
   },
   "outputs": [],
   "source": [
    "pprint(doc.jsonpath(''))"
   ]
  },
  {
   "cell_type": "code",
   "execution_count": null,
   "id": "58f13efa-5f30-4ae0-a72e-fd9fa5069728",
   "metadata": {
    "scrolled": true
   },
   "outputs": [],
   "source": []
  },
  {
   "cell_type": "code",
   "execution_count": null,
   "id": "9bd7a1fa-93a0-4c22-94c9-3d2ef79ac762",
   "metadata": {
    "scrolled": true
   },
   "outputs": [],
   "source": []
  },
  {
   "cell_type": "code",
   "execution_count": null,
   "id": "d9ad959b-876d-46dc-845f-06648b1ef590",
   "metadata": {
    "scrolled": true
   },
   "outputs": [],
   "source": []
  },
  {
   "cell_type": "code",
   "execution_count": null,
   "id": "06473601-3b0b-4295-8e0a-92bebba4ce9b",
   "metadata": {
    "scrolled": true
   },
   "outputs": [],
   "source": []
  },
  {
   "cell_type": "code",
   "execution_count": null,
   "id": "9d91e8bb-d82d-4516-b238-acf6472e57e5",
   "metadata": {
    "scrolled": true
   },
   "outputs": [],
   "source": []
  },
  {
   "cell_type": "code",
   "execution_count": null,
   "id": "c61eec80-6dad-48bb-a294-dbd35b5bb5e2",
   "metadata": {
    "scrolled": true
   },
   "outputs": [],
   "source": []
  },
  {
   "cell_type": "code",
   "execution_count": null,
   "id": "4f0c99a6-ed26-4ec3-b5a7-1e01a81ebdb6",
   "metadata": {
    "scrolled": true
   },
   "outputs": [],
   "source": []
  },
  {
   "cell_type": "code",
   "execution_count": null,
   "id": "a90dd25d-1429-4cfd-88fa-355c4c4980fe",
   "metadata": {
    "scrolled": true
   },
   "outputs": [],
   "source": []
  },
  {
   "cell_type": "code",
   "execution_count": null,
   "id": "7e3ebdd5-64ec-482b-bc19-a4dd46cce08b",
   "metadata": {
    "scrolled": true
   },
   "outputs": [],
   "source": []
  },
  {
   "cell_type": "code",
   "execution_count": null,
   "id": "1b5a62ef-23ad-40af-80de-f75586ec2361",
   "metadata": {
    "scrolled": true
   },
   "outputs": [],
   "source": []
  },
  {
   "cell_type": "code",
   "execution_count": null,
   "id": "82a37ca4-bcf7-4c90-8bcd-03edbb8a24a0",
   "metadata": {
    "scrolled": true
   },
   "outputs": [],
   "source": []
  },
  {
   "cell_type": "code",
   "execution_count": null,
   "id": "6ecacb52-67bb-4dae-9fc4-421e691dc3ed",
   "metadata": {
    "scrolled": true
   },
   "outputs": [],
   "source": []
  },
  {
   "cell_type": "code",
   "execution_count": null,
   "id": "556b94bd-7ef8-47a0-b912-1c78689f657f",
   "metadata": {
    "scrolled": true
   },
   "outputs": [],
   "source": []
  },
  {
   "cell_type": "code",
   "execution_count": null,
   "id": "ac056756-ff2d-40d9-990a-bad855aa8a66",
   "metadata": {
    "scrolled": true
   },
   "outputs": [],
   "source": []
  },
  {
   "cell_type": "code",
   "execution_count": null,
   "id": "053577d1-cfb1-4f24-bac0-c33c15acaf81",
   "metadata": {
    "scrolled": true
   },
   "outputs": [],
   "source": []
  }
 ],
 "metadata": {
  "kernelspec": {
   "display_name": "Python 3 (ipykernel)",
   "language": "python",
   "name": "python3"
  },
  "language_info": {
   "codemirror_mode": {
    "name": "ipython",
    "version": 3
   },
   "file_extension": ".py",
   "mimetype": "text/x-python",
   "name": "python",
   "nbconvert_exporter": "python",
   "pygments_lexer": "ipython3",
   "version": "3.10.6"
  }
 },
 "nbformat": 4,
 "nbformat_minor": 5
}
