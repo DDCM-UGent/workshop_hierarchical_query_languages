{
 "cells": [
  {
   "cell_type": "markdown",
   "id": "706b08c2-282f-4aae-86c8-c132ddd12ad5",
   "metadata": {},
   "source": [
    "# NoSQL: Hierarchical Querying Workshop - MongoDB"
   ]
  },
  {
   "cell_type": "markdown",
   "id": "564cb776-bfab-43b9-9bbe-2a49f7215fcf",
   "metadata": {},
   "source": [
    "## System Requirements"
   ]
  },
  {
   "cell_type": "code",
   "execution_count": null,
   "id": "f78e53f5-2bf3-4412-a4c8-ffa59ac9701d",
   "metadata": {
    "scrolled": true
   },
   "outputs": [],
   "source": [
    "!pip install pymongo"
   ]
  },
  {
   "cell_type": "markdown",
   "id": "d9cdee22-a436-4b88-92e2-0634c69b08dd",
   "metadata": {},
   "source": [
    "## Import"
   ]
  },
  {
   "cell_type": "code",
   "execution_count": null,
   "id": "0f95fd25-d19b-4137-a478-36d5aaff8bb4",
   "metadata": {
    "scrolled": true
   },
   "outputs": [],
   "source": [
    "from internal.mongo import Mongo, pprint"
   ]
  },
  {
   "cell_type": "markdown",
   "id": "e9356a22-ef70-4936-b6d2-1f71888dffe3",
   "metadata": {},
   "source": [
    "## Setup"
   ]
  },
  {
   "cell_type": "code",
   "execution_count": null,
   "id": "fb60dfd9-a5cf-4ad4-87ac-e21fc87a240a",
   "metadata": {
    "scrolled": true
   },
   "outputs": [],
   "source": [
    "db = Mongo('connection.properties')"
   ]
  },
  {
   "cell_type": "markdown",
   "id": "a03913cf-b166-40c1-8798-85fac5ee053d",
   "metadata": {},
   "source": [
    "## Example"
   ]
  },
  {
   "cell_type": "code",
   "execution_count": null,
   "id": "b569206f-bd7c-4c0e-858c-6501e6f56d63",
   "metadata": {
    "scrolled": true
   },
   "outputs": [],
   "source": [
    "pprint(db.collection.find({}, {'tweeted_by.username': 1}))"
   ]
  },
  {
   "cell_type": "code",
   "execution_count": null,
   "id": "4466d50c-0aaa-4b6e-8312-6f51162d2677",
   "metadata": {
    "scrolled": true
   },
   "outputs": [],
   "source": [
    "pprint(db.collection.find_one({}, {'tweeted_by.username': 1}))"
   ]
  },
  {
   "cell_type": "code",
   "execution_count": null,
   "id": "853cd467-7065-4c10-a2fb-ecacac808930",
   "metadata": {
    "scrolled": true
   },
   "outputs": [],
   "source": [
    "pprint(db.collection.find({}, {'tweeted_by.username': 1}).sort('tweeted_by.username'))"
   ]
  },
  {
   "cell_type": "markdown",
   "id": "a69b7e6c-5bd4-4b40-86f5-8e7884193de2",
   "metadata": {},
   "source": [
    "## Solutions (start here)"
   ]
  },
  {
   "cell_type": "markdown",
   "id": "1d75da34-e476-4788-b140-26ba28c69dc4",
   "metadata": {},
   "source": [
    "### Exercise 1"
   ]
  },
  {
   "cell_type": "code",
   "execution_count": null,
   "id": "bf32ab35-92f4-43e9-931a-5ba2153ccb37",
   "metadata": {
    "scrolled": true
   },
   "outputs": [],
   "source": [
    "pprint(db.collection.find())"
   ]
  },
  {
   "cell_type": "markdown",
   "id": "4acf9043-6178-4a35-916a-ccdff5fe1499",
   "metadata": {},
   "source": [
    "### Exercise 2"
   ]
  },
  {
   "cell_type": "code",
   "execution_count": null,
   "id": "72aec2f9-cd67-4e51-947f-34a8eb262701",
   "metadata": {
    "scrolled": true,
    "tags": []
   },
   "outputs": [],
   "source": [
    "pprint(db.collection.find())"
   ]
  },
  {
   "cell_type": "markdown",
   "id": "bc4f0098-4963-43d1-b6ca-705894171ade",
   "metadata": {},
   "source": [
    "### Exercise 3"
   ]
  },
  {
   "cell_type": "code",
   "execution_count": null,
   "id": "660b2028-0243-4e5a-8dc2-202ba1877eb6",
   "metadata": {
    "scrolled": true
   },
   "outputs": [],
   "source": [
    "pprint(db.collection.find())"
   ]
  },
  {
   "cell_type": "markdown",
   "id": "0c760f9b-369c-438d-96fa-cb149e470711",
   "metadata": {},
   "source": [
    "### Exercise 4"
   ]
  },
  {
   "cell_type": "code",
   "execution_count": null,
   "id": "6c6cf917-d883-4957-b2c3-a7a54e740c8b",
   "metadata": {
    "scrolled": true
   },
   "outputs": [],
   "source": [
    "pprint(db.collection.find())"
   ]
  },
  {
   "cell_type": "markdown",
   "id": "d46f2d4e-0ae6-4d97-aa8c-7b522bd9cb96",
   "metadata": {},
   "source": [
    "### Exercise 5"
   ]
  },
  {
   "cell_type": "code",
   "execution_count": null,
   "id": "6a8ec9bc-85fe-42b5-8b2a-c2128b18fe30",
   "metadata": {
    "scrolled": true
   },
   "outputs": [],
   "source": [
    "pprint(db.collection.find())"
   ]
  },
  {
   "cell_type": "markdown",
   "id": "54f5e655-8b5f-4e85-8dc1-9907be06c6fc",
   "metadata": {},
   "source": [
    "### Exercise 6"
   ]
  },
  {
   "cell_type": "code",
   "execution_count": null,
   "id": "c0fbc27e-d1a5-4b81-a91a-6a62e7875b25",
   "metadata": {
    "scrolled": true
   },
   "outputs": [],
   "source": [
    "pprint(db.collection.find())"
   ]
  },
  {
   "cell_type": "markdown",
   "id": "2079fd44-2ba9-4551-9102-fcd5550ca7e8",
   "metadata": {},
   "source": [
    "### Exercise 7"
   ]
  },
  {
   "cell_type": "code",
   "execution_count": null,
   "id": "22c2a245-8144-4d3a-a67a-12008e36a9f9",
   "metadata": {
    "scrolled": true
   },
   "outputs": [],
   "source": [
    "pprint(db.collection.find())"
   ]
  },
  {
   "cell_type": "markdown",
   "id": "e54e55af-fd1a-4db3-9fe7-34ba0ab8e066",
   "metadata": {},
   "source": [
    "### Exercise 8"
   ]
  },
  {
   "cell_type": "code",
   "execution_count": null,
   "id": "4cf1150d-7598-4db6-bda8-19a9250d74af",
   "metadata": {
    "scrolled": true
   },
   "outputs": [],
   "source": [
    "pprint(db.collection.find())"
   ]
  },
  {
   "cell_type": "markdown",
   "id": "6c6b8a51-d4bf-456e-ba1e-0edd50155847",
   "metadata": {},
   "source": [
    "### Exercise 9"
   ]
  },
  {
   "cell_type": "code",
   "execution_count": null,
   "id": "4922b53e-c7a0-4783-b99f-63e41a2ebcbf",
   "metadata": {
    "scrolled": true
   },
   "outputs": [],
   "source": [
    "pprint(db.collection.find())"
   ]
  },
  {
   "cell_type": "markdown",
   "id": "141cbf36-3d14-4f8d-a0d8-8224928dd453",
   "metadata": {},
   "source": [
    "### Exercise 10"
   ]
  },
  {
   "cell_type": "code",
   "execution_count": null,
   "id": "8cbbc452-a8a3-4585-8ae7-14e8adcdcc7c",
   "metadata": {
    "scrolled": true
   },
   "outputs": [],
   "source": [
    "pprint(db.collection.find())"
   ]
  },
  {
   "cell_type": "markdown",
   "id": "18f3b339-e608-4d10-b83f-1a8a26f30d9f",
   "metadata": {},
   "source": [
    "### Exercise 11"
   ]
  },
  {
   "cell_type": "code",
   "execution_count": null,
   "id": "3e4a8bd7-12b1-4463-89df-1271ae60dbb9",
   "metadata": {
    "scrolled": true
   },
   "outputs": [],
   "source": [
    "pprint(db.collection.find())"
   ]
  },
  {
   "cell_type": "code",
   "execution_count": null,
   "id": "ddfc1fb1-ca56-43ca-94a0-b1ba903736a2",
   "metadata": {
    "scrolled": true
   },
   "outputs": [],
   "source": []
  },
  {
   "cell_type": "code",
   "execution_count": null,
   "id": "ba859441-7e97-4299-8904-4de02afb9720",
   "metadata": {
    "scrolled": true
   },
   "outputs": [],
   "source": []
  },
  {
   "cell_type": "code",
   "execution_count": null,
   "id": "384a3aeb-64dd-4a56-9144-3b66f8f895b1",
   "metadata": {
    "scrolled": true
   },
   "outputs": [],
   "source": []
  },
  {
   "cell_type": "code",
   "execution_count": null,
   "id": "bcabd913-b9d4-4635-979b-19151c2be104",
   "metadata": {
    "scrolled": true
   },
   "outputs": [],
   "source": []
  },
  {
   "cell_type": "code",
   "execution_count": null,
   "id": "ae610452-8e3a-498f-8eba-5e3680f9c1fb",
   "metadata": {
    "scrolled": true
   },
   "outputs": [],
   "source": []
  },
  {
   "cell_type": "code",
   "execution_count": null,
   "id": "228caad1-3a85-4e6d-913b-17d046602eca",
   "metadata": {
    "scrolled": true
   },
   "outputs": [],
   "source": []
  },
  {
   "cell_type": "code",
   "execution_count": null,
   "id": "bca9babf-2d7e-4290-ab0c-ea04e1c7c768",
   "metadata": {
    "scrolled": true
   },
   "outputs": [],
   "source": []
  },
  {
   "cell_type": "code",
   "execution_count": null,
   "id": "fbb3d321-2163-4da4-8a95-c73ad7b5f187",
   "metadata": {
    "scrolled": true
   },
   "outputs": [],
   "source": []
  },
  {
   "cell_type": "code",
   "execution_count": null,
   "id": "ef4059fc-a746-4a04-bffa-d9165b6a461b",
   "metadata": {
    "scrolled": true
   },
   "outputs": [],
   "source": []
  },
  {
   "cell_type": "code",
   "execution_count": null,
   "id": "56c023db-43b2-405f-9c85-56904f162be8",
   "metadata": {
    "scrolled": true
   },
   "outputs": [],
   "source": []
  },
  {
   "cell_type": "code",
   "execution_count": null,
   "id": "8d7e9602-e672-4723-9d03-07e1ae830544",
   "metadata": {
    "scrolled": true
   },
   "outputs": [],
   "source": []
  }
 ],
 "metadata": {
  "kernelspec": {
   "display_name": "Python 3 (ipykernel)",
   "language": "python",
   "name": "python3"
  },
  "language_info": {
   "codemirror_mode": {
    "name": "ipython",
    "version": 3
   },
   "file_extension": ".py",
   "mimetype": "text/x-python",
   "name": "python",
   "nbconvert_exporter": "python",
   "pygments_lexer": "ipython3",
   "version": "3.10.6"
  }
 },
 "nbformat": 4,
 "nbformat_minor": 5
}
