{
 "cells": [
  {
   "cell_type": "markdown",
   "id": "8d3a4c39-c1f9-4a64-a4d4-f9848151d12c",
   "metadata": {},
   "source": [
    "# NoSQL: Hierarchical Querying Workshop - XPath"
   ]
  },
  {
   "cell_type": "markdown",
   "id": "2c271e57-4677-4f6d-a8d0-3e8a8f20ae57",
   "metadata": {},
   "source": [
    "## System requirements"
   ]
  },
  {
   "cell_type": "code",
   "execution_count": null,
   "id": "f3ccabf4-10dd-4c26-b5b0-ad99da1807a3",
   "metadata": {
    "scrolled": true
   },
   "outputs": [],
   "source": [
    "!pip install lxml"
   ]
  },
  {
   "cell_type": "markdown",
   "id": "a8a6066f-4383-4739-adde-f2ad24b2a2a1",
   "metadata": {},
   "source": [
    "## Imports"
   ]
  },
  {
   "cell_type": "code",
   "execution_count": null,
   "id": "4d6c0ca7-8e82-409d-b978-6697ad4a6829",
   "metadata": {
    "scrolled": true
   },
   "outputs": [],
   "source": [
    "from internal.xml import XMLDocument, pprint"
   ]
  },
  {
   "cell_type": "markdown",
   "id": "53a4bc92-c03b-4c81-ba9c-d27d248cad1c",
   "metadata": {},
   "source": [
    "## Setup"
   ]
  },
  {
   "cell_type": "code",
   "execution_count": null,
   "id": "4438f1eb-b896-4f14-810e-8531088480b5",
   "metadata": {
    "scrolled": true
   },
   "outputs": [],
   "source": [
    "doc = XMLDocument('data/tweets.xml')"
   ]
  },
  {
   "cell_type": "markdown",
   "id": "f28817d7-dc47-4cf6-b62f-85d99a8ceb11",
   "metadata": {},
   "source": [
    "## Example"
   ]
  },
  {
   "cell_type": "code",
   "execution_count": null,
   "id": "67eb5838-f766-48e3-a207-cf8bffde205e",
   "metadata": {
    "scrolled": true
   },
   "outputs": [],
   "source": [
    "pprint(doc.xpath('/tweets/tweet[1]'))"
   ]
  },
  {
   "cell_type": "markdown",
   "id": "44c6c201-1206-4332-a47d-428f43d2927b",
   "metadata": {},
   "source": [
    "## Solutions (start here)"
   ]
  },
  {
   "cell_type": "markdown",
   "id": "a04e82a7-0212-42ff-a6a4-b136209650d8",
   "metadata": {
    "tags": []
   },
   "source": [
    "### Exercise 1"
   ]
  },
  {
   "cell_type": "code",
   "execution_count": null,
   "id": "717491ce-5672-41ab-baed-8abd63460449",
   "metadata": {
    "scrolled": true
   },
   "outputs": [],
   "source": [
    "pprint(doc.xpath(''))"
   ]
  },
  {
   "cell_type": "markdown",
   "id": "12d897ef-4c02-4643-9f7f-320a5d6e9e89",
   "metadata": {
    "tags": []
   },
   "source": [
    "### Exercise 2"
   ]
  },
  {
   "cell_type": "code",
   "execution_count": null,
   "id": "ce25f1ab-0387-43a7-9054-dd679d13ca7d",
   "metadata": {
    "scrolled": true
   },
   "outputs": [],
   "source": [
    "pprint(doc.xpath(''))"
   ]
  },
  {
   "cell_type": "markdown",
   "id": "d4c4d1d1-2771-451e-9461-2c590a8b1cc6",
   "metadata": {
    "tags": []
   },
   "source": [
    "### Exercise 3"
   ]
  },
  {
   "cell_type": "code",
   "execution_count": null,
   "id": "911e1803-c008-47cf-8b3a-0acd8aa8e841",
   "metadata": {
    "scrolled": true
   },
   "outputs": [],
   "source": [
    "pprint(doc.xpath(''))"
   ]
  },
  {
   "cell_type": "markdown",
   "id": "116975fd-6735-43f1-9cc0-4f74adab6ea2",
   "metadata": {
    "tags": []
   },
   "source": [
    "### Exercise 4"
   ]
  },
  {
   "cell_type": "code",
   "execution_count": null,
   "id": "19b0d42c-ec31-4b9a-8003-3665556546e9",
   "metadata": {
    "scrolled": true
   },
   "outputs": [],
   "source": [
    "pprint(doc.xpath(''))"
   ]
  },
  {
   "cell_type": "markdown",
   "id": "81c4bd53-958c-4640-849a-f63fe9221aa5",
   "metadata": {
    "tags": []
   },
   "source": [
    "### Exercise 5"
   ]
  },
  {
   "cell_type": "code",
   "execution_count": null,
   "id": "bb0d98e4-9a85-422f-a02a-631cc9b4f547",
   "metadata": {
    "scrolled": true
   },
   "outputs": [],
   "source": [
    "pprint(doc.xpath(''))"
   ]
  },
  {
   "cell_type": "markdown",
   "id": "2b574410-1c63-49aa-9c0e-a9a6a8ed9f7c",
   "metadata": {
    "tags": []
   },
   "source": [
    "### Exercise 6"
   ]
  },
  {
   "cell_type": "code",
   "execution_count": null,
   "id": "a72dadd8-f710-494c-9843-b3c8e074a8b7",
   "metadata": {
    "scrolled": true
   },
   "outputs": [],
   "source": [
    "pprint(doc.xpath(''))"
   ]
  },
  {
   "cell_type": "markdown",
   "id": "5e6cf93c-5543-4699-a2fa-d12a59efec27",
   "metadata": {
    "tags": []
   },
   "source": [
    "### Exercise 7"
   ]
  },
  {
   "cell_type": "code",
   "execution_count": null,
   "id": "ff54945f-fd5d-43b8-b4d2-0df54f4f59f0",
   "metadata": {
    "scrolled": true
   },
   "outputs": [],
   "source": [
    "pprint(doc.xpath(''))"
   ]
  },
  {
   "cell_type": "markdown",
   "id": "58608d53-b6e9-4757-b7a0-2d2bca1c491d",
   "metadata": {
    "tags": []
   },
   "source": [
    "### Exercise 8"
   ]
  },
  {
   "cell_type": "code",
   "execution_count": null,
   "id": "6a9fa1aa-d661-488e-bcd1-07061b94158e",
   "metadata": {
    "scrolled": true
   },
   "outputs": [],
   "source": [
    "pprint(doc.xpath(''))"
   ]
  },
  {
   "cell_type": "markdown",
   "id": "c6912181-3341-4aec-a636-b201229c82b6",
   "metadata": {
    "tags": []
   },
   "source": [
    "### Exercise 9"
   ]
  },
  {
   "cell_type": "code",
   "execution_count": null,
   "id": "836753d8-51d7-42fb-b753-14df7d64f805",
   "metadata": {
    "scrolled": true
   },
   "outputs": [],
   "source": [
    "pprint(doc.xpath(''))"
   ]
  },
  {
   "cell_type": "markdown",
   "id": "97ff71ba-2127-45dc-ab8d-d55a0d4c426c",
   "metadata": {
    "tags": []
   },
   "source": [
    "### Exercise 10"
   ]
  },
  {
   "cell_type": "code",
   "execution_count": null,
   "id": "81b608b9-e2af-4c2e-8cea-93c8eb782105",
   "metadata": {
    "scrolled": true
   },
   "outputs": [],
   "source": [
    "pprint(doc.xpath(''))"
   ]
  },
  {
   "cell_type": "markdown",
   "id": "171e4bff-93b5-4139-be54-aa96c16cc6ec",
   "metadata": {
    "tags": []
   },
   "source": [
    "### Exercise 11"
   ]
  },
  {
   "cell_type": "code",
   "execution_count": null,
   "id": "089dfa39-69ec-49f8-ab03-e06bfa538c8e",
   "metadata": {
    "scrolled": true
   },
   "outputs": [],
   "source": [
    "pprint(doc.xpath(''))"
   ]
  },
  {
   "cell_type": "markdown",
   "id": "ff4667b9-f17e-4fde-8e35-6552a280e497",
   "metadata": {
    "tags": []
   },
   "source": [
    "### Exercise 12"
   ]
  },
  {
   "cell_type": "code",
   "execution_count": null,
   "id": "043ec53e-cce6-4dd6-a783-d5f4b000fca8",
   "metadata": {
    "scrolled": true
   },
   "outputs": [],
   "source": [
    "pprint(doc.xpath(''))"
   ]
  },
  {
   "cell_type": "markdown",
   "id": "c7001c5e-94f1-4094-b404-2130875f3544",
   "metadata": {
    "tags": []
   },
   "source": [
    "### Exercise 13"
   ]
  },
  {
   "cell_type": "code",
   "execution_count": null,
   "id": "ad689aaf-5327-45d8-b60c-321c83d9e119",
   "metadata": {
    "scrolled": true
   },
   "outputs": [],
   "source": [
    "pprint(doc.xpath(''))"
   ]
  },
  {
   "cell_type": "markdown",
   "id": "1221cdce-fbd9-4909-a9e5-a6fc4e195c46",
   "metadata": {
    "tags": []
   },
   "source": [
    "### Exercise 14"
   ]
  },
  {
   "cell_type": "code",
   "execution_count": null,
   "id": "60647296-159b-4219-8c7d-bb2eeccd81a1",
   "metadata": {
    "scrolled": true
   },
   "outputs": [],
   "source": [
    "pprint(doc.xpath(''))"
   ]
  },
  {
   "cell_type": "markdown",
   "id": "6a057430-5ef7-487a-a358-e6e338b5a5c3",
   "metadata": {
    "tags": []
   },
   "source": [
    "### Exercise 15"
   ]
  },
  {
   "cell_type": "code",
   "execution_count": null,
   "id": "f595ec6b-89e8-4e78-9aeb-955ac84404f0",
   "metadata": {
    "scrolled": true
   },
   "outputs": [],
   "source": [
    "pprint(doc.xpath(''))"
   ]
  },
  {
   "cell_type": "markdown",
   "id": "f322c574-9c12-435a-a666-3ad3d23a431f",
   "metadata": {
    "tags": []
   },
   "source": [
    "### Exercise 16"
   ]
  },
  {
   "cell_type": "code",
   "execution_count": null,
   "id": "68a13760-9ff4-4ca1-b0ee-158438c0bac6",
   "metadata": {
    "scrolled": true
   },
   "outputs": [],
   "source": [
    "pprint(doc.xpath(''))"
   ]
  },
  {
   "cell_type": "markdown",
   "id": "5cc15b51-ecc2-41ee-b367-23190b7b794f",
   "metadata": {
    "tags": []
   },
   "source": [
    "### Exercise 17"
   ]
  },
  {
   "cell_type": "code",
   "execution_count": null,
   "id": "afc421d2-6b1b-42b0-aaaf-15045b16ce43",
   "metadata": {
    "scrolled": true
   },
   "outputs": [],
   "source": [
    "pprint(doc.xpath(''))"
   ]
  },
  {
   "cell_type": "markdown",
   "id": "5f5d5a35-0722-411f-8eba-e07e0435c927",
   "metadata": {
    "tags": []
   },
   "source": [
    "### Exercise 18"
   ]
  },
  {
   "cell_type": "code",
   "execution_count": null,
   "id": "06d171c2-aaf8-4065-9123-98e3d70fc413",
   "metadata": {
    "scrolled": true
   },
   "outputs": [],
   "source": [
    "pprint(doc.xpath(''))"
   ]
  },
  {
   "cell_type": "markdown",
   "id": "141e6d92-f676-4ef5-bcd4-3e70b56c2bb5",
   "metadata": {
    "tags": []
   },
   "source": [
    "### Exercise 19"
   ]
  },
  {
   "cell_type": "code",
   "execution_count": null,
   "id": "ccd28070-f3c0-4edd-b0cb-818a0877e34f",
   "metadata": {
    "scrolled": true
   },
   "outputs": [],
   "source": [
    "pprint(doc.xpath(''))"
   ]
  },
  {
   "cell_type": "markdown",
   "id": "6380525a-e575-4789-a6c6-f05cb2a331df",
   "metadata": {
    "tags": []
   },
   "source": [
    "### Exercise 20"
   ]
  },
  {
   "cell_type": "code",
   "execution_count": null,
   "id": "d62854b9-dd9c-4dde-8386-885ba89d5dc1",
   "metadata": {
    "scrolled": true
   },
   "outputs": [],
   "source": [
    "pprint(doc.xpath(''))"
   ]
  },
  {
   "cell_type": "code",
   "execution_count": null,
   "id": "759a6d18-9e4f-4709-b8ea-b9081ad6b077",
   "metadata": {
    "scrolled": true,
    "tags": []
   },
   "outputs": [],
   "source": []
  },
  {
   "cell_type": "code",
   "execution_count": null,
   "id": "49290f95-237b-4466-96b7-8ed47c54e671",
   "metadata": {
    "scrolled": true
   },
   "outputs": [],
   "source": []
  },
  {
   "cell_type": "code",
   "execution_count": null,
   "id": "0e01402a-0775-4bf0-9579-4942c01da0e0",
   "metadata": {
    "scrolled": true
   },
   "outputs": [],
   "source": []
  },
  {
   "cell_type": "code",
   "execution_count": null,
   "id": "44719fab-ecb1-4c2f-8728-977b65c37593",
   "metadata": {
    "scrolled": true
   },
   "outputs": [],
   "source": []
  },
  {
   "cell_type": "code",
   "execution_count": null,
   "id": "76047eb5-3ebd-454f-a111-464cc658234a",
   "metadata": {
    "scrolled": true
   },
   "outputs": [],
   "source": []
  },
  {
   "cell_type": "code",
   "execution_count": null,
   "id": "aa2a24f8-53c6-43dc-8243-9ed91829b811",
   "metadata": {
    "scrolled": true
   },
   "outputs": [],
   "source": []
  },
  {
   "cell_type": "code",
   "execution_count": null,
   "id": "52f3708f-2809-4060-8823-cc3f713f6fea",
   "metadata": {
    "scrolled": true
   },
   "outputs": [],
   "source": []
  },
  {
   "cell_type": "code",
   "execution_count": null,
   "id": "7bca26d0-0a36-4c87-ad2e-904b9537f87e",
   "metadata": {
    "scrolled": true
   },
   "outputs": [],
   "source": []
  },
  {
   "cell_type": "code",
   "execution_count": null,
   "id": "42a2820b-39a3-4e63-a9a8-6860b5f35778",
   "metadata": {
    "scrolled": true
   },
   "outputs": [],
   "source": []
  },
  {
   "cell_type": "code",
   "execution_count": null,
   "id": "ca8fe616-3673-41c3-a4d0-13a60e01417d",
   "metadata": {
    "scrolled": true
   },
   "outputs": [],
   "source": []
  },
  {
   "cell_type": "code",
   "execution_count": null,
   "id": "8dff809b-f98d-450f-8c26-8633cd8b997f",
   "metadata": {
    "scrolled": true
   },
   "outputs": [],
   "source": []
  },
  {
   "cell_type": "code",
   "execution_count": null,
   "id": "7da05639-27be-4f90-a1a0-4076b4aae5b9",
   "metadata": {
    "scrolled": true
   },
   "outputs": [],
   "source": []
  },
  {
   "cell_type": "code",
   "execution_count": null,
   "id": "8a465c60-4e4c-4e06-b999-8d271b930a36",
   "metadata": {
    "scrolled": true
   },
   "outputs": [],
   "source": []
  }
 ],
 "metadata": {
  "kernelspec": {
   "display_name": "Python 3 (ipykernel)",
   "language": "python",
   "name": "python3"
  },
  "language_info": {
   "codemirror_mode": {
    "name": "ipython",
    "version": 3
   },
   "file_extension": ".py",
   "mimetype": "text/x-python",
   "name": "python",
   "nbconvert_exporter": "python",
   "pygments_lexer": "ipython3",
   "version": "3.10.6"
  }
 },
 "nbformat": 4,
 "nbformat_minor": 5
}
